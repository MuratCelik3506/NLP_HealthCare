{
 "cells": [
  {
   "cell_type": "markdown",
   "id": "8d238ef5",
   "metadata": {},
   "source": [
    "<h1 align=\"center\">Hacettepe University <br> Department of Computer Science </h1> \n",
    "\n",
    "<h2 align=\"center\">BBM 467 - Data Intensive Applications<br>Fall 2022</h2>\n",
    "\n",
    "<h3 align=\"center\">NLP Solutions on Articles</h3>\n",
    "<h3 align=\"left\">Name    :    Murat Çelik</h3>\n",
    "<h3 align=\"left\">ID      :    21827263</h3>\n",
    "<h4 align=\"right\">Due on January 2023</h4>"
   ]
  },
  {
   "cell_type": "markdown",
   "id": "5268a3eb",
   "metadata": {},
   "source": [
    "# Abstract\n",
    "\n",
    "Along with the technologies in recent years, artificial intelligence technologies have affected our lives in many areas. Research on artificial intelligence studies in the field of health continues rapidly. One of these areas is Natural language processing (NLP). Mining studies in clinical documents; diagnosis of the disease by searching many sources; identification of disease through automatic labeling of patient complaints; answering patients’ questions via chatbot; They are divided into different tasks such as summarizing, tagging and titling texts. In this project, we made use of these algorithms by creating a website. The development stages of the project, the facilities it provides and the details are documented. The focus of the study is to make it easier for people far from the field of health to be informed and to save time.\n",
    "\n",
    "## KEYWORDS\n",
    "NLP, Summarization, Keyword, Question-Answer\n",
    "\n",
    "# 1. INTRODUCTION\n",
    "With the technologies in recent years, artificial intelligence technologies have affected our lives in many areas. The research of artificial intelligence studies in the field of health continues rapidly and even as a result of recent developments, it has even started to be used in the decision-making mechanism. The part of these technologies that focuses on text is called Natural language processing (NLP). Mining studies in clinical documents; diagnosis of disease by searching many sources; identification of disease by automatic labeling of patient complaints; answering patients' questions via chatbot; They are divided into different tasks such as summarizing, tagging and titling texts. With these developments, it is important to increase success in the field of health, to put less burden on health workers and to disseminate correct information.\n",
    "# 2. Problem\n",
    "The focus in this project is to apply Natural Language Processing solutions on health articles. The main purpose is to create a more simplified and practical website for people who cannot find time, miss important parts, and cannot improve themselves in research. On the website developed within the scope of the project, additional studies were carried out and a demo was prepared in order to appeal to the end user with plain texts.\n",
    "## 2.1 Dataset\n",
    "1198 plain health articles published by MedicalNewsToday were used. The articles are focused on different topics and have a length of between 4000-10000 characters. Article data can be accessed at the following address. <a href=\"https://www.kaggle.com/datasets/trikialaaa/2k-clean-medical-articles-medicalnewstoday\">2k clean medical articles (MedicalNewsToday) </a>\n",
    "# 3. Method\n",
    "The project focused on an accessible and easy-to-use website. Long articles with an average of 7000 characters are not read and understood by most people. This was an incentive to use the Natural Language Processing field to solve the problem. These articles were handled as titling, article tagging and summarizing. This showed that user accessible areas can be extracted from a long plain text. In addition, a scenario was designed where the user can ask a question about an article he/she chooses. It was expected that the model would answer the question by researching it through the article. This provided an interactive scenario with the user."
   ]
  },
  {
   "cell_type": "code",
   "execution_count": 1,
   "id": "9c464277",
   "metadata": {},
   "outputs": [],
   "source": [
    "import warnings\n",
    "warnings.filterwarnings('ignore')"
   ]
  },
  {
   "cell_type": "code",
   "execution_count": 2,
   "id": "e44f0cdc",
   "metadata": {},
   "outputs": [],
   "source": [
    "from keyword_extractor import keyword\n",
    "from TitleGeneration import create_title\n",
    "from Summarization import summarize_text\n",
    "from QA import initialize_model\n",
    "import QA\n",
    "import os\n",
    "import pandas as pd"
   ]
  },
  {
   "cell_type": "code",
   "execution_count": 3,
   "id": "149bcc40",
   "metadata": {},
   "outputs": [],
   "source": [
    "df = pd.read_csv(\"originial.csv\")"
   ]
  },
  {
   "cell_type": "code",
   "execution_count": 4,
   "id": "71b05578",
   "metadata": {},
   "outputs": [
    {
     "name": "stderr",
     "output_type": "stream",
     "text": [
      "No model was supplied, defaulted to distilbert-base-cased-distilled-squad and revision 626af31 (https://huggingface.co/distilbert-base-cased-distilled-squad).\n",
      "Using a pipeline without specifying a model name and revision in production is not recommended.\n"
     ]
    }
   ],
   "source": [
    "text_list = list()\n",
    "initialize_model()"
   ]
  },
  {
   "cell_type": "code",
   "execution_count": 5,
   "id": "50317c4a",
   "metadata": {},
   "outputs": [],
   "source": [
    "for path in list(df[\"Path\"]):\n",
    "    f = open(path, \"r\",encoding=\"utf-8\")\n",
    "    text = f.read()\n",
    "    text_list.append(text)\n",
    "    f.close()"
   ]
  },
  {
   "cell_type": "markdown",
   "id": "a9b0a80f",
   "metadata": {},
   "source": [
    "You can select any article from here."
   ]
  },
  {
   "cell_type": "code",
   "execution_count": 6,
   "id": "bdad5d33",
   "metadata": {},
   "outputs": [],
   "source": [
    "text = text_list[100]"
   ]
  },
  {
   "cell_type": "markdown",
   "id": "16fe248d",
   "metadata": {},
   "source": [
    "### A Article"
   ]
  },
  {
   "cell_type": "code",
   "execution_count": 7,
   "id": "cc2a6215",
   "metadata": {},
   "outputs": [
    {
     "data": {
      "text/plain": [
       "'Which factors drive autism? This is a question to which researchers still have no answer. Now, a new study conducted in mice and assessing data from humans suggests that a unique genetic mutation may play a key role in early brain development, contributing to autism. Autism — which scientists and healthcare professionals often refer to as autism spectrum disorder (ASD) — is different for different individuals, and its traits usually become visible in childhood. Specialists consider autism to be a “ developmental disorder, ” and autistic individuals may have different experiences in terms of relating to other people; they may learn differently and engage in repetitive movement. For some people, these traits are not an obstacle in their day-to-day life. Others may find these or aspects of these traits unhelpful, or that they cause difficulties in terms of engaging with people around them. In these situations, healthcare professionals may advise on different ways of coping or strategies for self-development. These may include participating in cognitive behavioral therapy (CBT), behavioral management therapy, or social skills training. Others may suggest taking some medication, such as antidepressants or anti-anxiety drugs, where appropriate. According to the World Health Organization (WHO), about 1 in every 160 children around the world is autistic. Despite this, scientists are still unsure exactly what factors drive the development of autistic traits. A new study from the University of North Carolina (UNC) School of Medicine in Chapel Hill, suggests that a genetic mutation that drives features of the early development of the cerebral cortex may play a key role in autism. The scientists conducted their research in mouse models and also assessed genetic information collected from humans. The authors present their findings in a study paper that appears in the journal Neuron. “ [The new] finding suggests that ASD can be caused by disruptions occurring very early on when the cerebral cortex is just beginning to construct itself. ” Senior author Prof. Eva AntonThe research team focused on the cerebral cortex because, in humans, this part of the brain regulates higher-order functions, such as speech, consciousness, and memory. Scientists are yet to learn exactly how the cerebral cortex develops, but they do know that a type of precursor cells — which later differentiate, becoming specialized cells — called radial glial cells are key to early cortical development. These cells form at the base of the cortex in a particular “ design ” that researchers refer to as a “ tiled pattern. ” Each radial glial cell in part then generates a “ basal process ” — a stem-like emanation that acts as a “ scaffold ” and helps new neurons (brain cells) to organize and slot into their assigned positions. In their new animal study, the UNC researchers found that a gene called Memo1 disrupts the pattern of the radial glial cells, their basal processes, and the whole initial organization of new brain cells. The team explains that previous studies have found that mutations in MEMO1 in humans sometimes have associations with autism. However, it remained unclear whether or how that mutation might contribute to the development of autism. For their current research, Prof. Anton and colleagues decided to work with mice, in which they deleted the Memo1 gene in an early phase of cortical development. The team wanted to find out what effect if any, this would have on the brain. After doing this, the researchers noted disruptions of the radial glial cells, whose pattern, they say, would typically remain stabilized by the action of the Memo1 protein, encoded by the gene of the same name. Without it, the scaffolding that emanated from the radial glial cells branched out excessively and altered the tiling of the radial glial cells themselves. This resulted in the disorganization of new brain cells, some of which slotted into the wrong positions entirely. Prof. Anton and team note that a similar type of neural cell disorganization is present in the brains of some autistic children, according to existing studies. Based on the clues offered by their findings in rodents and by previous human studies, the researchers then went on to analyze mutations of the MEMO1 gene in autistic people who presented characteristic behaviors and also experienced intellectual disabilities. In doing so, the team found out that a mutation of this gene in humans encoded a shortened form of the MEMO1 protein, which, as the authors put it in their paper, “ results in functional loss of MEMO1 ” and impacts the development of radial glial cells. Moreover, when the investigators looked at the engineered mice once more, they noted that the knockdown rodents displayed certain behaviors — lack of interest in exploring, for instance — consistent with some behaviors typical of autism. “ For disorders of brain development, such as ASD, it is important to understand the origins of the problem, even if we are still far away from being able to correct developmental disruptions occurring in utero, ” says Prof. Anton. “ We need this foundational knowledge if we are to truly get to the root causes of these conditions and eventually develop better diagnostic or therapeutic strategies, ” she continues. Such findings may, in the future, lead to better treatment options for individuals in whom certain features of autism lead to disability or behavioral issues. However, autistic advocates continue to urge scientists not to regard autism, on the whole, as a medical condition or a problem that needs solving. “ Healthcare disparities need to be remedied and beneficial therapies made more widely available; however, the use of scientifically unproven treatments and those that focus on normalization rather than teaching useful skills should be discouraged, ” warn the Autistic Self Advocacy Network.'"
      ]
     },
     "execution_count": 7,
     "metadata": {},
     "output_type": "execute_result"
    }
   ],
   "source": [
    "text"
   ]
  },
  {
   "cell_type": "markdown",
   "id": "a29e5b32",
   "metadata": {},
   "source": [
    "## 3.1 Title Generation\n",
    "When a user wants to read an article, the first thing they notice is the title. The model has been prepared in order to identify the most important parts of the article itself and to bring it to the title format. Fabiochiu's pretrained model named \"t5-small-medium-title-generation\" was used. The model was trained with 16000 articles and 1000 articles that were not used in the train stage were used in the evaluation step. A score of 26.9\\% was obtained in the Recall-Oriented Understudy for Gisting Evaluation-L metric. The ROUGE-L score is the metric type that targets the longest clusters by calculations of different metrics."
   ]
  },
  {
   "cell_type": "code",
   "execution_count": 8,
   "id": "30549a5d",
   "metadata": {},
   "outputs": [
    {
     "data": {
      "text/plain": [
       "'Which factors drive autism?'"
      ]
     },
     "execution_count": 8,
     "metadata": {},
     "output_type": "execute_result"
    }
   ],
   "source": [
    "create_title(text)"
   ]
  },
  {
   "cell_type": "markdown",
   "id": "6ba6b47d",
   "metadata": {},
   "source": [
    "## 3.2 Summarization\n",
    "Summarizing allows us to present the shorter version of the texts without losing their informational substance. There are two types of paths in these algorithms. One is the algorithm prepared by extracting sentences from the article called Extractive. The other model is the algorithms called Abstractive/Generative and aiming to create completely new text. It was studied with the pretrained model of Sshleifer named \"distillbart-cnn-12-6\". This model is in the architecture of the BART model in the article. It is an extractive model."
   ]
  },
  {
   "cell_type": "code",
   "execution_count": 9,
   "id": "e2da03cb",
   "metadata": {},
   "outputs": [
    {
     "name": "stderr",
     "output_type": "stream",
     "text": [
      "No model was supplied, defaulted to sshleifer/distilbart-cnn-12-6 and revision a4f8f3e (https://huggingface.co/sshleifer/distilbart-cnn-12-6).\n",
      "Using a pipeline without specifying a model name and revision in production is not recommended.\n",
      "Token indices sequence length is longer than the specified maximum sequence length for this model (1143 > 1024). Running this sequence through the model will result in indexing errors\n"
     ]
    },
    {
     "data": {
      "text/plain": [
       "' A new study from the University of North Carolina School of Medicine in Chapel Hill, suggests that a genetic mutation that drives features of the early development of the cerebral cortex may play a key role in autism . The scientists conducted their research in mouse models and also assessed genetic information collected from humans . The authors present their findings in the journal Neuron . UNC researchers found that a gene called Memo1 disrupts the pattern of the radial glial cells, their basal processes, and the whole initial organization of new brain cells . Such findings may, in the future, lead to better treatment options for individuals in whom certain features of autism lead to disability or behavioral issues . Autistic Self Advocacy Network urges scientists not to regard autism as a medical condition or a problem that needs solving .'"
      ]
     },
     "execution_count": 9,
     "metadata": {},
     "output_type": "execute_result"
    }
   ],
   "source": [
    "summarize_text(text)"
   ]
  },
  {
   "cell_type": "markdown",
   "id": "ecef1404",
   "metadata": {},
   "source": [
    "## 3.3 Keyword Extraction\n",
    "Determining the keywords of the texts is important for categorization. In this way, the user can search for an article in a desired area and examine the options. KeyBERT is an algorithm defined on the BERT model and its purpose is to extract and score keywords. The model has some shortcomings. Since the same words were scored with different suffixes, a Lemmatize application was made on the text. For each article, 5 popular tags were determined and categorized."
   ]
  },
  {
   "cell_type": "code",
   "execution_count": 10,
   "id": "c9664b3c",
   "metadata": {},
   "outputs": [
    {
     "data": {
      "text/plain": [
       "[('autism', 0.6016),\n",
       " ('autistic', 0.4561),\n",
       " ('genetic', 0.3198),\n",
       " ('anxiety', 0.3188),\n",
       " ('therapy', 0.31)]"
      ]
     },
     "execution_count": 10,
     "metadata": {},
     "output_type": "execute_result"
    }
   ],
   "source": [
    "keyword(text)"
   ]
  },
  {
   "cell_type": "markdown",
   "id": "17fe5876",
   "metadata": {},
   "source": [
    "## 3.4 Question Answer\n",
    "The main scenario of the study is a question-answer study. This study is to answer the question received from the user on the article. In our project, this scenario is realized in two ways. The first scenario is that the user can ask a question from an article page and get an answer. In the second scenario, the user selects the question and a keyword, the answer is searched in all articles related to that keyword, and the answer with the highest answer score is shown to the user.\n",
    "\n",
    "The model is based on the \"distillbert-base-cased-distilled-squad\" model. It has an extractive structure. The answer to the question asked is searched in the text and after the answer is found, it is scored. The algorithm tells us the answer, the score and the position of the answer in the text."
   ]
  },
  {
   "cell_type": "markdown",
   "id": "825abcef",
   "metadata": {},
   "source": [
    "Note : When the code below runs, you should write a question about the selected text. The answer will be given as output."
   ]
  },
  {
   "cell_type": "markdown",
   "id": "1100e3a3",
   "metadata": {},
   "source": [
    "Example of autism article : \"How many children in the world have autism?\" You can ask."
   ]
  },
  {
   "cell_type": "code",
   "execution_count": 11,
   "id": "a3b19a0b",
   "metadata": {},
   "outputs": [
    {
     "name": "stdout",
     "output_type": "stream",
     "text": [
      "How many children in the world have autism?\n"
     ]
    },
    {
     "data": {
      "text/plain": [
       "{'score': 0.6031290292739868,\n",
       " 'start': 1315,\n",
       " 'end': 1329,\n",
       " 'answer': '1 in every 160'}"
      ]
     },
     "execution_count": 11,
     "metadata": {},
     "output_type": "execute_result"
    }
   ],
   "source": [
    "question = input()\n",
    "answer = QA.qa_model(question = question, context = text)\n",
    "answer"
   ]
  },
  {
   "cell_type": "code",
   "execution_count": 12,
   "id": "5323985e",
   "metadata": {},
   "outputs": [
    {
     "data": {
      "text/plain": [
       "'zation (WHO), about 1 in every 160 children around the'"
      ]
     },
     "execution_count": 12,
     "metadata": {},
     "output_type": "execute_result"
    }
   ],
   "source": [
    "text[answer[\"start\"]-20:answer[\"end\"]+20]"
   ]
  },
  {
   "cell_type": "markdown",
   "id": "534d00dd",
   "metadata": {},
   "source": [
    "# 4. Project Details\n",
    "The project is built on Django architecture. The libraries and versions of the project are given in the \"requirements.txt\" within the project. Basically, 3 pages were determined in the project.\n",
    "\n",
    "One of them is the main page (Figure:\\ref{fig:main}) where the articles are published in catalog. On this page, articles are shown with titles, abstracts and tags published by NLP models. The articles are also cataloged through the selected tags.\n",
    "\n",
    "Another page is a specially created content page (Figure:\\ref{fig:article}) for each article. Here, the title of the article, the article itself, the article summary and tags are published. In addition, there is a question bar on the page. Here, the user asks a question over the article and the answer is automatically observed on the screen.\n",
    "\n",
    "Another page is the question and answer panel(Figure:\\ref{fig:QA}). Here the user writes his question and selects a tag. The answer to the question is searched on the articles with that tag and the best answer is returned to the user. The main purpose of this page is to create a platform where the user can get information without going to the doctor.\n",
    "\n"
   ]
  },
  {
   "cell_type": "markdown",
   "id": "b8f79a47",
   "metadata": {},
   "source": [
    "![alt text](./Website_Images/Main_Page.jpg)\n",
    "This is the area where the articles are displayed. You can access the articles of that tag by selecting a tag on the left. When the option bar on the left is removed, the title, summary and tags of the text are displayed on the page. This information is completely extracted by algorithm. There are 3 articles on each page."
   ]
  },
  {
   "cell_type": "markdown",
   "id": "ae4776cd",
   "metadata": {},
   "source": [
    "![Article](./Website_Images/The_Article_Page.jpg)\n",
    "This is the page where the article details appear. The title is written in blue font. Below is the original text. The summary and keywords of the text are given on the right. Below them, there is an area to ask questions about the article. As seen in the example, the answer to the question is given below."
   ]
  },
  {
   "cell_type": "markdown",
   "id": "301acdb2",
   "metadata": {},
   "source": [
    "![QA](./Website_Images/QA_portal.jpg)\n",
    "This is the area where the articles are displayed. You can access the articles of that tag by selecting a tag on the left. When the option bar on the left is removed, the title, summary and tags of the text are displayed on the page. This information is completely extracted by algorithm. There are 3 articles on each page."
   ]
  },
  {
   "cell_type": "markdown",
   "id": "cf2667f6",
   "metadata": {},
   "source": [
    "# 5. Project Results\n",
    "The overall results of the project are positive. The hashing, keyword extraction, and titling algorithms work well. The question and answer area also provides a nice experience.\n",
    "\n",
    "In the summarization algorithm, the performance of the article decreases with the length of the article. Due to the length of some articles, the model cannot work and as a solution, the article is given to the model piece by piece.\n",
    "\n",
    "Due to the length of the articles in the question and answer area, there may be difficulties in answering. It is seen that the model has difficulty in general questions. More specific questions are more successful. For example, \"What is the name of the abortion pill?\" answers the question as \"Misoprostol\". But the general question \"What is abortion?\" He answers the question \"It occurs when the pregnancy ends\". In general, the answers are in line with the clarity of the question.\n",
    "# 6. Conclusions\n",
    "The use of Natural Language Processing in the field of health has been determined as the main theme. The main purpose is to establish and present an accessible, easy and fast health platform to the user. It has been determined that the results are generally positive and its use will also be beneficial. Since it is aimed to add new articles to the system dynamically, it has been an efficient work in terms of usage and maintenance.\n",
    "Some changes and additions are planned in the later stages of the project. Interface correction, a faster and more stable site experience is aimed. In the next stage of the study, it is aimed to add another scenario. Within the scope of this scenario, it is aimed to add user comments to the platform and tag them. These labels; The relationship between the article and the comment will be on determining the accuracy and usefulness of the comment, and filtering false information. These considerations are important for future work.\n",
    "\n",
    "As a result of the advancement of technology and new ideas, it is certain that artificial intelligence technology will achieve greater success in the field of health in the future. It is also seen that the work in this area will continue without slowing down.\n",
    "# 7. References\n",
    "- [1] Jacob Devlin, Ming-Wei Chang, Kenton Lee, and Kristina Toutanova. 2018. BERT: Pre-training of Deep Bidirectional Transformers for Language Understanding. (2018). https://doi.org/10.48550/ARXIV.1810.04805\n",
    "- [2] Mike Lewis, Yinhan Liu, Naman Goyal, Marjan Ghazvininejad, Abdelrahman Mo- hamed, Omer Levy, Ves Stoyanov, and Luke Zettlemoyer. 2019. BART: Denoising Sequence-to-Sequence Pre-training for Natural Language Generation, Translation, and Comprehension. (2019). https://doi.org/10.48550/ARXIV.1910.13461\n",
    "- [3] Piotr Pęzik, Agnieszka Mikołajczyk-Bareła, Adam Wawrzyński, Bartłomiej Nitoń, and Maciej Ogrodniczuk. 2022. Keyword Extraction from Short Texts with a Text-To-Text Transfer Transformer. https://doi.org/10.48550/ARXIV.2209.14008\n",
    "- [4] Ana Sabina Uban and Cornelia Caragea. 2021. Generating Summaries for Scientific Paper Review. (2021). https://doi.org/10.48550/ARXIV.2109.14059\n",
    "- [5] Zhen Wang. 2022. Modern Question Answering Datasets and Benchmarks: A Survey. (2022). https://doi.org/10.4855/ARXIV.2206.15030\n",
    "- [6] Binggui Zhou, Guanghua Yang, Zheng Shi, and Shaodan Ma. 2021. Natural Lan- guage Processing for Smart Healthcare. (2021). https://doi.org/10.48550/ARXIV.2110.15803\n",
    "- [7] Fengbin Zhu, Wenqiang Lei, Chao Wang, Jianming Zheng, Soujanya Poria, and Tat-Seng Chua. 2021. Retrieving and Reading: A Comprehensive Survey on Open- domain Question Answering. https://doi.org/10.48550/ARXIV.2101.00774"
   ]
  }
 ],
 "metadata": {
  "kernelspec": {
   "display_name": "Python 3 (ipykernel)",
   "language": "python",
   "name": "python3"
  },
  "language_info": {
   "codemirror_mode": {
    "name": "ipython",
    "version": 3
   },
   "file_extension": ".py",
   "mimetype": "text/x-python",
   "name": "python",
   "nbconvert_exporter": "python",
   "pygments_lexer": "ipython3",
   "version": "3.10.8"
  }
 },
 "nbformat": 4,
 "nbformat_minor": 5
}
